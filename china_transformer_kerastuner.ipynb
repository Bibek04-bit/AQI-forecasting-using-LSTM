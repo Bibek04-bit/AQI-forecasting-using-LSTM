{
 "cells": [
  {
   "cell_type": "markdown",
   "metadata": {},
   "source": [
    "importing libraries"
   ]
  },
  {
   "cell_type": "code",
   "execution_count": 1,
   "metadata": {},
   "outputs": [
    {
     "name": "stderr",
     "output_type": "stream",
     "text": [
      "C:\\Users\\Acer\\AppData\\Local\\Temp\\ipykernel_1788\\1044255911.py:7: DeprecationWarning: `import kerastuner` is deprecated, please use `import keras_tuner`.\n",
      "  from kerastuner.tuners import RandomSearch\n"
     ]
    }
   ],
   "source": [
    "import numpy as np\n",
    "import pandas as pd\n",
    "import tensorflow as tf\n",
    "from tensorflow import keras\n",
    "from tensorflow.keras.models import Model\n",
    "from tensorflow.keras.layers import Input, Dense, Dropout, LayerNormalization, MultiHeadAttention, Add\n",
    "from kerastuner.tuners import RandomSearch\n",
    "from sklearn.model_selection import KFold\n",
    "from sklearn.metrics import mean_squared_error, mean_absolute_error, r2_score"
   ]
  },
  {
   "cell_type": "markdown",
   "metadata": {},
   "source": [
    "load my preprocessed dataset"
   ]
  },
  {
   "cell_type": "code",
   "execution_count": 2,
   "metadata": {},
   "outputs": [],
   "source": [
    "file_path = \"preprocessed_dataset_china.csv\"\n",
    "data = pd.read_csv(file_path)\n"
   ]
  },
  {
   "cell_type": "markdown",
   "metadata": {},
   "source": [
    "defining features and target"
   ]
  },
  {
   "cell_type": "code",
   "execution_count": 5,
   "metadata": {},
   "outputs": [],
   "source": [
    "features = ['PM2.5', 'O3', 'TEMPERATURE', 'PRESSURE', 'DEWPOINT', 'RAIN']\n",
    "target = 'PM2.5'\n"
   ]
  },
  {
   "cell_type": "code",
   "execution_count": 6,
   "metadata": {},
   "outputs": [],
   "source": [
    "X = data[features].values\n",
    "y = data[target].values"
   ]
  },
  {
   "cell_type": "markdown",
   "metadata": {},
   "source": [
    "train test split"
   ]
  },
  {
   "cell_type": "code",
   "execution_count": 7,
   "metadata": {},
   "outputs": [],
   "source": [
    "from sklearn.model_selection import train_test_split\n",
    "X_train, X_test, y_train, y_test = train_test_split(X, y, test_size=0.2, random_state=42)"
   ]
  },
  {
   "cell_type": "markdown",
   "metadata": {},
   "source": [
    "reshaping input for my model"
   ]
  },
  {
   "cell_type": "code",
   "execution_count": 8,
   "metadata": {},
   "outputs": [],
   "source": [
    "X_train = X_train.reshape((X_train.shape[0], 1, X_train.shape[1]))  # (samples, timesteps, features)\n",
    "X_test = X_test.reshape((X_test.shape[0], 1, X_test.shape[1]))"
   ]
  },
  {
   "cell_type": "markdown",
   "metadata": {},
   "source": [
    "transformer hyper model"
   ]
  },
  {
   "cell_type": "code",
   "execution_count": 14,
   "metadata": {},
   "outputs": [],
   "source": [
    "from tensorflow.keras.layers import Input\n",
    "\n",
    "# Define the input layer\n",
    "input_shape = (X_train.shape[1], X_train.shape[2])  # (timesteps, features)\n",
    "input_layer = Input(shape=input_shape)\n"
   ]
  },
  {
   "cell_type": "code",
   "execution_count": 15,
   "metadata": {},
   "outputs": [],
   "source": [
    "# Define Transformer Hyperparameters\n",
    "head_size = 64   # Size of each attention head\n",
    "num_heads = 4    # Number of attention heads\n",
    "ff_dim = 128     # Hidden layer size in feed-forward network\n",
    "num_layers = 2   # Number of Transformer encoder blocks\n",
    "dropout = 0.2    # Dropout rate\n"
   ]
  },
  {
   "cell_type": "code",
   "execution_count": 16,
   "metadata": {},
   "outputs": [],
   "source": [
    "# def build_transformer_model(hp):\n",
    "#     input_layer = Input(shape=(X_train.shape[1], X_train.shape[2]))\n",
    "\n",
    "#     head_size = hp.Choice('head_size', [32, 64, 128])\n",
    "#     num_heads = hp.Int('num_heads', 2, 8, step=2)\n",
    "#     ff_dim = hp.Choice('ff_dim', [64, 128, 256])\n",
    "#     dropout = hp.Float('dropout', 0.1, 0.5, step=0.1)"
   ]
  },
  {
   "cell_type": "markdown",
   "metadata": {},
   "source": [
    "multihead attention"
   ]
  },
  {
   "cell_type": "code",
   "execution_count": 17,
   "metadata": {},
   "outputs": [],
   "source": [
    "    # attn_output = MultiHeadAttention(num_heads=num_heads, key_dim=head_size)(input_layer, input_layer)\n",
    "    # attn_output = Dropout(dropout)(attn_output)\n",
    "    # attn_output = LayerNormalization(epsilon=1e-6)(Add()([input_layer, attn_output]))"
   ]
  },
  {
   "cell_type": "markdown",
   "metadata": {},
   "source": [
    "feed forward network"
   ]
  },
  {
   "cell_type": "code",
   "execution_count": null,
   "metadata": {},
   "outputs": [],
   "source": [
    "# ff_output = Dense(ff_dim, activation=\"relu\")(attn_output)  \n",
    "# ff_output = Dropout(dropout)(ff_output)  \n",
    "\n",
    "# ff_output = Dense(X_train.shape[2], activation=\"relu\")(ff_output)\n",
    "# ff_output = LayerNormalization(epsilon=1e-6)(Add()([attn_output, ff_output]))"
   ]
  },
  {
   "cell_type": "markdown",
   "metadata": {},
   "source": [
    "output layer"
   ]
  },
  {
   "cell_type": "code",
   "execution_count": null,
   "metadata": {},
   "outputs": [],
   "source": [
    "# output_layer = Dense(1, activation=\"linear\")(ff_output)\n",
    "\n",
    "# model = Model(inputs=input_layer, outputs=output_layer)\n",
    "# model.compile(optimizer='adam', loss='mse', metrics=['mae'])\n"
   ]
  },
  {
   "cell_type": "code",
   "execution_count": 23,
   "metadata": {},
   "outputs": [],
   "source": [
    "# Define Transformer HyperModel for Tuning\n",
    "def build_transformer_model(hp):\n",
    "    input_layer = Input(shape=(X_train.shape[1], X_train.shape[2]))\n",
    "\n",
    "    head_size = hp.Choice('head_size', [32, 64, 128])\n",
    "    num_heads = hp.Int('num_heads', 2, 8, step=2)\n",
    "    ff_dim = hp.Choice('ff_dim', [64, 128, 256])\n",
    "    dropout = hp.Float('dropout', 0.1, 0.5, step=0.1)\n",
    "\n",
    "    # Multi-head attention\n",
    "    attn_output = MultiHeadAttention(num_heads=num_heads, key_dim=head_size)(input_layer, input_layer)\n",
    "    attn_output = Dropout(dropout)(attn_output)\n",
    "    attn_output = LayerNormalization(epsilon=1e-6)(Add()([input_layer, attn_output]))\n",
    "\n",
    "    # Feedforward network\n",
    "    ff_output = Dense(ff_dim, activation=\"relu\")(attn_output)\n",
    "    ff_output = Dropout(dropout)(ff_output)\n",
    "    ff_output = Dense(X_train.shape[2], activation=\"relu\")(ff_output)\n",
    "    ff_output = LayerNormalization(epsilon=1e-6)(Add()([attn_output, ff_output]))\n",
    "\n",
    "    # Output layer\n",
    "    output_layer = Dense(1, activation=\"linear\")(ff_output)\n",
    "\n",
    "    model = Model(inputs=input_layer, outputs=output_layer)\n",
    "    model.compile(optimizer='adam', loss='mse', metrics=['mae'])\n",
    "\n",
    "    return model"
   ]
  },
  {
   "cell_type": "markdown",
   "metadata": {},
   "source": [
    "Keras tuner"
   ]
  },
  {
   "cell_type": "code",
   "execution_count": 24,
   "metadata": {},
   "outputs": [],
   "source": [
    "tuner = RandomSearch(\n",
    "    build_transformer_model,\n",
    "    objective=\"val_loss\",\n",
    "    max_trials=5,\n",
    "    executions_per_trial=1,\n",
    "    directory=\"tuner_results\",\n",
    "    project_name=\"transformer_tuning\"\n",
    ")"
   ]
  },
  {
   "cell_type": "markdown",
   "metadata": {},
   "source": [
    "run hyper parameter tuning"
   ]
  },
  {
   "cell_type": "code",
   "execution_count": 25,
   "metadata": {},
   "outputs": [
    {
     "name": "stdout",
     "output_type": "stream",
     "text": [
      "Trial 5 Complete [00h 05m 11s]\n",
      "val_loss: 0.0073427497409284115\n",
      "\n",
      "Best val_loss So Far: 0.007340245880186558\n",
      "Total elapsed time: 00h 27m 09s\n"
     ]
    }
   ],
   "source": [
    "tuner.search(X_train, y_train, epochs=50, validation_split=0.2, batch_size=8)"
   ]
  },
  {
   "cell_type": "markdown",
   "metadata": {},
   "source": [
    "getting best hyper parmeters"
   ]
  },
  {
   "cell_type": "code",
   "execution_count": 26,
   "metadata": {},
   "outputs": [
    {
     "name": "stdout",
     "output_type": "stream",
     "text": [
      "Best Hyperparameters: head_size=128, num_heads=6, ff_dim=256, dropout=0.4\n"
     ]
    }
   ],
   "source": [
    "best_hps = tuner.get_best_hyperparameters(num_trials=1)[0]\n",
    "print(f\"Best Hyperparameters: head_size={best_hps.get('head_size')}, num_heads={best_hps.get('num_heads')}, ff_dim={best_hps.get('ff_dim')}, dropout={best_hps.get('dropout')}\")"
   ]
  },
  {
   "cell_type": "markdown",
   "metadata": {},
   "source": [
    "train best model"
   ]
  },
  {
   "cell_type": "code",
   "execution_count": 27,
   "metadata": {},
   "outputs": [
    {
     "name": "stdout",
     "output_type": "stream",
     "text": [
      "Epoch 1/50\n",
      "\u001b[1m674/674\u001b[0m \u001b[32m━━━━━━━━━━━━━━━━━━━━\u001b[0m\u001b[37m\u001b[0m \u001b[1m5s\u001b[0m 5ms/step - loss: 0.3301 - mae: 0.2893 - val_loss: 0.0076 - val_mae: 0.0653\n",
      "Epoch 2/50\n",
      "\u001b[1m674/674\u001b[0m \u001b[32m━━━━━━━━━━━━━━━━━━━━\u001b[0m\u001b[37m\u001b[0m \u001b[1m3s\u001b[0m 4ms/step - loss: 0.0109 - mae: 0.0774 - val_loss: 0.0077 - val_mae: 0.0595\n",
      "Epoch 3/50\n",
      "\u001b[1m674/674\u001b[0m \u001b[32m━━━━━━━━━━━━━━━━━━━━\u001b[0m\u001b[37m\u001b[0m \u001b[1m2s\u001b[0m 4ms/step - loss: 0.0088 - mae: 0.0684 - val_loss: 0.0075 - val_mae: 0.0606\n",
      "Epoch 4/50\n",
      "\u001b[1m674/674\u001b[0m \u001b[32m━━━━━━━━━━━━━━━━━━━━\u001b[0m\u001b[37m\u001b[0m \u001b[1m2s\u001b[0m 4ms/step - loss: 0.0081 - mae: 0.0652 - val_loss: 0.0076 - val_mae: 0.0669\n",
      "Epoch 5/50\n",
      "\u001b[1m674/674\u001b[0m \u001b[32m━━━━━━━━━━━━━━━━━━━━\u001b[0m\u001b[37m\u001b[0m \u001b[1m2s\u001b[0m 3ms/step - loss: 0.0080 - mae: 0.0650 - val_loss: 0.0075 - val_mae: 0.0622\n",
      "Epoch 6/50\n",
      "\u001b[1m674/674\u001b[0m \u001b[32m━━━━━━━━━━━━━━━━━━━━\u001b[0m\u001b[37m\u001b[0m \u001b[1m2s\u001b[0m 3ms/step - loss: 0.0079 - mae: 0.0647 - val_loss: 0.0076 - val_mae: 0.0659\n",
      "Epoch 7/50\n",
      "\u001b[1m674/674\u001b[0m \u001b[32m━━━━━━━━━━━━━━━━━━━━\u001b[0m\u001b[37m\u001b[0m \u001b[1m2s\u001b[0m 3ms/step - loss: 0.0075 - mae: 0.0631 - val_loss: 0.0075 - val_mae: 0.0655\n",
      "Epoch 8/50\n",
      "\u001b[1m674/674\u001b[0m \u001b[32m━━━━━━━━━━━━━━━━━━━━\u001b[0m\u001b[37m\u001b[0m \u001b[1m3s\u001b[0m 4ms/step - loss: 0.0078 - mae: 0.0638 - val_loss: 0.0076 - val_mae: 0.0602\n",
      "Epoch 9/50\n",
      "\u001b[1m674/674\u001b[0m \u001b[32m━━━━━━━━━━━━━━━━━━━━\u001b[0m\u001b[37m\u001b[0m \u001b[1m3s\u001b[0m 4ms/step - loss: 0.0076 - mae: 0.0632 - val_loss: 0.0075 - val_mae: 0.0643\n",
      "Epoch 10/50\n",
      "\u001b[1m674/674\u001b[0m \u001b[32m━━━━━━━━━━━━━━━━━━━━\u001b[0m\u001b[37m\u001b[0m \u001b[1m3s\u001b[0m 4ms/step - loss: 0.0074 - mae: 0.0632 - val_loss: 0.0075 - val_mae: 0.0630\n",
      "Epoch 11/50\n",
      "\u001b[1m674/674\u001b[0m \u001b[32m━━━━━━━━━━━━━━━━━━━━\u001b[0m\u001b[37m\u001b[0m \u001b[1m2s\u001b[0m 3ms/step - loss: 0.0076 - mae: 0.0630 - val_loss: 0.0076 - val_mae: 0.0658\n",
      "Epoch 12/50\n",
      "\u001b[1m674/674\u001b[0m \u001b[32m━━━━━━━━━━━━━━━━━━━━\u001b[0m\u001b[37m\u001b[0m \u001b[1m2s\u001b[0m 3ms/step - loss: 0.0073 - mae: 0.0626 - val_loss: 0.0075 - val_mae: 0.0619\n",
      "Epoch 13/50\n",
      "\u001b[1m674/674\u001b[0m \u001b[32m━━━━━━━━━━━━━━━━━━━━\u001b[0m\u001b[37m\u001b[0m \u001b[1m2s\u001b[0m 4ms/step - loss: 0.0076 - mae: 0.0634 - val_loss: 0.0075 - val_mae: 0.0607\n",
      "Epoch 14/50\n",
      "\u001b[1m674/674\u001b[0m \u001b[32m━━━━━━━━━━━━━━━━━━━━\u001b[0m\u001b[37m\u001b[0m \u001b[1m2s\u001b[0m 3ms/step - loss: 0.0072 - mae: 0.0616 - val_loss: 0.0075 - val_mae: 0.0618\n",
      "Epoch 15/50\n",
      "\u001b[1m674/674\u001b[0m \u001b[32m━━━━━━━━━━━━━━━━━━━━\u001b[0m\u001b[37m\u001b[0m \u001b[1m2s\u001b[0m 4ms/step - loss: 0.0075 - mae: 0.0627 - val_loss: 0.0075 - val_mae: 0.0610\n",
      "Epoch 16/50\n",
      "\u001b[1m674/674\u001b[0m \u001b[32m━━━━━━━━━━━━━━━━━━━━\u001b[0m\u001b[37m\u001b[0m \u001b[1m3s\u001b[0m 4ms/step - loss: 0.0073 - mae: 0.0626 - val_loss: 0.0075 - val_mae: 0.0649\n",
      "Epoch 17/50\n",
      "\u001b[1m674/674\u001b[0m \u001b[32m━━━━━━━━━━━━━━━━━━━━\u001b[0m\u001b[37m\u001b[0m \u001b[1m2s\u001b[0m 3ms/step - loss: 0.0075 - mae: 0.0631 - val_loss: 0.0075 - val_mae: 0.0653\n",
      "Epoch 18/50\n",
      "\u001b[1m674/674\u001b[0m \u001b[32m━━━━━━━━━━━━━━━━━━━━\u001b[0m\u001b[37m\u001b[0m \u001b[1m3s\u001b[0m 5ms/step - loss: 0.0075 - mae: 0.0629 - val_loss: 0.0075 - val_mae: 0.0607\n",
      "Epoch 19/50\n",
      "\u001b[1m674/674\u001b[0m \u001b[32m━━━━━━━━━━━━━━━━━━━━\u001b[0m\u001b[37m\u001b[0m \u001b[1m3s\u001b[0m 5ms/step - loss: 0.0072 - mae: 0.0620 - val_loss: 0.0075 - val_mae: 0.0632\n",
      "Epoch 20/50\n",
      "\u001b[1m674/674\u001b[0m \u001b[32m━━━━━━━━━━━━━━━━━━━━\u001b[0m\u001b[37m\u001b[0m \u001b[1m3s\u001b[0m 4ms/step - loss: 0.0074 - mae: 0.0623 - val_loss: 0.0075 - val_mae: 0.0609\n",
      "Epoch 21/50\n",
      "\u001b[1m674/674\u001b[0m \u001b[32m━━━━━━━━━━━━━━━━━━━━\u001b[0m\u001b[37m\u001b[0m \u001b[1m3s\u001b[0m 5ms/step - loss: 0.0073 - mae: 0.0626 - val_loss: 0.0075 - val_mae: 0.0620\n",
      "Epoch 22/50\n",
      "\u001b[1m674/674\u001b[0m \u001b[32m━━━━━━━━━━━━━━━━━━━━\u001b[0m\u001b[37m\u001b[0m \u001b[1m3s\u001b[0m 5ms/step - loss: 0.0075 - mae: 0.0631 - val_loss: 0.0075 - val_mae: 0.0615\n",
      "Epoch 23/50\n",
      "\u001b[1m674/674\u001b[0m \u001b[32m━━━━━━━━━━━━━━━━━━━━\u001b[0m\u001b[37m\u001b[0m \u001b[1m3s\u001b[0m 4ms/step - loss: 0.0073 - mae: 0.0622 - val_loss: 0.0075 - val_mae: 0.0627\n",
      "Epoch 24/50\n",
      "\u001b[1m674/674\u001b[0m \u001b[32m━━━━━━━━━━━━━━━━━━━━\u001b[0m\u001b[37m\u001b[0m \u001b[1m2s\u001b[0m 4ms/step - loss: 0.0074 - mae: 0.0627 - val_loss: 0.0075 - val_mae: 0.0631\n",
      "Epoch 25/50\n",
      "\u001b[1m674/674\u001b[0m \u001b[32m━━━━━━━━━━━━━━━━━━━━\u001b[0m\u001b[37m\u001b[0m \u001b[1m3s\u001b[0m 5ms/step - loss: 0.0073 - mae: 0.0622 - val_loss: 0.0075 - val_mae: 0.0604\n",
      "Epoch 26/50\n",
      "\u001b[1m674/674\u001b[0m \u001b[32m━━━━━━━━━━━━━━━━━━━━\u001b[0m\u001b[37m\u001b[0m \u001b[1m3s\u001b[0m 4ms/step - loss: 0.0073 - mae: 0.0621 - val_loss: 0.0075 - val_mae: 0.0612\n",
      "Epoch 27/50\n",
      "\u001b[1m674/674\u001b[0m \u001b[32m━━━━━━━━━━━━━━━━━━━━\u001b[0m\u001b[37m\u001b[0m \u001b[1m3s\u001b[0m 4ms/step - loss: 0.0075 - mae: 0.0628 - val_loss: 0.0075 - val_mae: 0.0642\n",
      "Epoch 28/50\n",
      "\u001b[1m674/674\u001b[0m \u001b[32m━━━━━━━━━━━━━━━━━━━━\u001b[0m\u001b[37m\u001b[0m \u001b[1m3s\u001b[0m 4ms/step - loss: 0.0074 - mae: 0.0627 - val_loss: 0.0075 - val_mae: 0.0656\n",
      "Epoch 29/50\n",
      "\u001b[1m674/674\u001b[0m \u001b[32m━━━━━━━━━━━━━━━━━━━━\u001b[0m\u001b[37m\u001b[0m \u001b[1m3s\u001b[0m 4ms/step - loss: 0.0076 - mae: 0.0631 - val_loss: 0.0075 - val_mae: 0.0604\n",
      "Epoch 30/50\n",
      "\u001b[1m674/674\u001b[0m \u001b[32m━━━━━━━━━━━━━━━━━━━━\u001b[0m\u001b[37m\u001b[0m \u001b[1m3s\u001b[0m 4ms/step - loss: 0.0074 - mae: 0.0624 - val_loss: 0.0075 - val_mae: 0.0608\n",
      "Epoch 31/50\n",
      "\u001b[1m674/674\u001b[0m \u001b[32m━━━━━━━━━━━━━━━━━━━━\u001b[0m\u001b[37m\u001b[0m \u001b[1m3s\u001b[0m 4ms/step - loss: 0.0077 - mae: 0.0629 - val_loss: 0.0075 - val_mae: 0.0618\n",
      "Epoch 32/50\n",
      "\u001b[1m674/674\u001b[0m \u001b[32m━━━━━━━━━━━━━━━━━━━━\u001b[0m\u001b[37m\u001b[0m \u001b[1m3s\u001b[0m 4ms/step - loss: 0.0074 - mae: 0.0623 - val_loss: 0.0075 - val_mae: 0.0615\n",
      "Epoch 33/50\n",
      "\u001b[1m674/674\u001b[0m \u001b[32m━━━━━━━━━━━━━━━━━━━━\u001b[0m\u001b[37m\u001b[0m \u001b[1m3s\u001b[0m 4ms/step - loss: 0.0074 - mae: 0.0628 - val_loss: 0.0076 - val_mae: 0.0596\n",
      "Epoch 34/50\n",
      "\u001b[1m674/674\u001b[0m \u001b[32m━━━━━━━━━━━━━━━━━━━━\u001b[0m\u001b[37m\u001b[0m \u001b[1m3s\u001b[0m 4ms/step - loss: 0.0075 - mae: 0.0628 - val_loss: 0.0075 - val_mae: 0.0631\n",
      "Epoch 35/50\n",
      "\u001b[1m674/674\u001b[0m \u001b[32m━━━━━━━━━━━━━━━━━━━━\u001b[0m\u001b[37m\u001b[0m \u001b[1m3s\u001b[0m 4ms/step - loss: 0.0073 - mae: 0.0619 - val_loss: 0.0075 - val_mae: 0.0626\n",
      "Epoch 36/50\n",
      "\u001b[1m674/674\u001b[0m \u001b[32m━━━━━━━━━━━━━━━━━━━━\u001b[0m\u001b[37m\u001b[0m \u001b[1m2s\u001b[0m 3ms/step - loss: 0.0074 - mae: 0.0628 - val_loss: 0.0076 - val_mae: 0.0601\n",
      "Epoch 37/50\n",
      "\u001b[1m674/674\u001b[0m \u001b[32m━━━━━━━━━━━━━━━━━━━━\u001b[0m\u001b[37m\u001b[0m \u001b[1m2s\u001b[0m 3ms/step - loss: 0.0077 - mae: 0.0633 - val_loss: 0.0076 - val_mae: 0.0599\n",
      "Epoch 38/50\n",
      "\u001b[1m674/674\u001b[0m \u001b[32m━━━━━━━━━━━━━━━━━━━━\u001b[0m\u001b[37m\u001b[0m \u001b[1m2s\u001b[0m 3ms/step - loss: 0.0075 - mae: 0.0631 - val_loss: 0.0075 - val_mae: 0.0608\n",
      "Epoch 39/50\n",
      "\u001b[1m674/674\u001b[0m \u001b[32m━━━━━━━━━━━━━━━━━━━━\u001b[0m\u001b[37m\u001b[0m \u001b[1m3s\u001b[0m 4ms/step - loss: 0.0074 - mae: 0.0628 - val_loss: 0.0075 - val_mae: 0.0630\n",
      "Epoch 40/50\n",
      "\u001b[1m674/674\u001b[0m \u001b[32m━━━━━━━━━━━━━━━━━━━━\u001b[0m\u001b[37m\u001b[0m \u001b[1m2s\u001b[0m 3ms/step - loss: 0.0074 - mae: 0.0626 - val_loss: 0.0075 - val_mae: 0.0612\n",
      "Epoch 41/50\n",
      "\u001b[1m674/674\u001b[0m \u001b[32m━━━━━━━━━━━━━━━━━━━━\u001b[0m\u001b[37m\u001b[0m \u001b[1m2s\u001b[0m 3ms/step - loss: 0.0074 - mae: 0.0624 - val_loss: 0.0075 - val_mae: 0.0608\n",
      "Epoch 42/50\n",
      "\u001b[1m674/674\u001b[0m \u001b[32m━━━━━━━━━━━━━━━━━━━━\u001b[0m\u001b[37m\u001b[0m \u001b[1m3s\u001b[0m 4ms/step - loss: 0.0074 - mae: 0.0624 - val_loss: 0.0075 - val_mae: 0.0609\n",
      "Epoch 43/50\n",
      "\u001b[1m674/674\u001b[0m \u001b[32m━━━━━━━━━━━━━━━━━━━━\u001b[0m\u001b[37m\u001b[0m \u001b[1m2s\u001b[0m 4ms/step - loss: 0.0076 - mae: 0.0632 - val_loss: 0.0075 - val_mae: 0.0633\n",
      "Epoch 44/50\n",
      "\u001b[1m674/674\u001b[0m \u001b[32m━━━━━━━━━━━━━━━━━━━━\u001b[0m\u001b[37m\u001b[0m \u001b[1m3s\u001b[0m 4ms/step - loss: 0.0075 - mae: 0.0631 - val_loss: 0.0075 - val_mae: 0.0613\n",
      "Epoch 45/50\n",
      "\u001b[1m674/674\u001b[0m \u001b[32m━━━━━━━━━━━━━━━━━━━━\u001b[0m\u001b[37m\u001b[0m \u001b[1m3s\u001b[0m 4ms/step - loss: 0.0071 - mae: 0.0615 - val_loss: 0.0075 - val_mae: 0.0621\n",
      "Epoch 46/50\n",
      "\u001b[1m674/674\u001b[0m \u001b[32m━━━━━━━━━━━━━━━━━━━━\u001b[0m\u001b[37m\u001b[0m \u001b[1m3s\u001b[0m 4ms/step - loss: 0.0075 - mae: 0.0628 - val_loss: 0.0075 - val_mae: 0.0615\n",
      "Epoch 47/50\n",
      "\u001b[1m674/674\u001b[0m \u001b[32m━━━━━━━━━━━━━━━━━━━━\u001b[0m\u001b[37m\u001b[0m \u001b[1m3s\u001b[0m 4ms/step - loss: 0.0074 - mae: 0.0619 - val_loss: 0.0075 - val_mae: 0.0633\n",
      "Epoch 48/50\n",
      "\u001b[1m674/674\u001b[0m \u001b[32m━━━━━━━━━━━━━━━━━━━━\u001b[0m\u001b[37m\u001b[0m \u001b[1m3s\u001b[0m 4ms/step - loss: 0.0076 - mae: 0.0629 - val_loss: 0.0075 - val_mae: 0.0625\n",
      "Epoch 49/50\n",
      "\u001b[1m674/674\u001b[0m \u001b[32m━━━━━━━━━━━━━━━━━━━━\u001b[0m\u001b[37m\u001b[0m \u001b[1m3s\u001b[0m 4ms/step - loss: 0.0074 - mae: 0.0627 - val_loss: 0.0075 - val_mae: 0.0626\n",
      "Epoch 50/50\n",
      "\u001b[1m674/674\u001b[0m \u001b[32m━━━━━━━━━━━━━━━━━━━━\u001b[0m\u001b[37m\u001b[0m \u001b[1m3s\u001b[0m 4ms/step - loss: 0.0073 - mae: 0.0626 - val_loss: 0.0075 - val_mae: 0.0635\n"
     ]
    },
    {
     "data": {
      "text/plain": [
       "<keras.src.callbacks.history.History at 0x1c886558080>"
      ]
     },
     "execution_count": 27,
     "metadata": {},
     "output_type": "execute_result"
    }
   ],
   "source": [
    "best_model = tuner.hypermodel.build(best_hps)\n",
    "best_model.fit(X_train, y_train, epochs=50, batch_size=32, validation_split=0.2)"
   ]
  },
  {
   "cell_type": "markdown",
   "metadata": {},
   "source": [
    "Evaluate the model"
   ]
  },
  {
   "cell_type": "code",
   "execution_count": 28,
   "metadata": {},
   "outputs": [
    {
     "name": "stdout",
     "output_type": "stream",
     "text": [
      "\u001b[1m211/211\u001b[0m \u001b[32m━━━━━━━━━━━━━━━━━━━━\u001b[0m\u001b[37m\u001b[0m \u001b[1m0s\u001b[0m 2ms/step\n",
      "Mean Squared Error (MSE): 0.007321222229794123\n",
      "Root Mean Squared Error (RMSE): 0.08556414102761813\n",
      "Mean Absolute Error (MAE): 0.06283463243641549\n",
      "R² Score: 0.03229414319312118\n"
     ]
    }
   ],
   "source": [
    "y_pred = best_model.predict(X_test).flatten()\n",
    "\n",
    "mse = mean_squared_error(y_test, y_pred)\n",
    "rmse = np.sqrt(mse)\n",
    "mae = mean_absolute_error(y_test, y_pred)\n",
    "r2 = r2_score(y_test, y_pred)\n",
    "print(f\"Mean Squared Error (MSE): {mse}\")\n",
    "print(f\"Root Mean Squared Error (RMSE): {rmse}\")\n",
    "print(f\"Mean Absolute Error (MAE): {mae}\")\n",
    "print(f\"R² Score: {r2}\")"
   ]
  },
  {
   "cell_type": "markdown",
   "metadata": {},
   "source": [
    "implementing K-fold cross validation"
   ]
  },
  {
   "cell_type": "code",
   "execution_count": 29,
   "metadata": {},
   "outputs": [
    {
     "name": "stdout",
     "output_type": "stream",
     "text": [
      "Epoch 1/20\n",
      "\u001b[1m842/842\u001b[0m \u001b[32m━━━━━━━━━━━━━━━━━━━━\u001b[0m\u001b[37m\u001b[0m \u001b[1m5s\u001b[0m 4ms/step - loss: 0.0762 - mae: 0.1559 - val_loss: 0.0089 - val_mae: 0.0782\n",
      "Epoch 2/20\n",
      "\u001b[1m842/842\u001b[0m \u001b[32m━━━━━━━━━━━━━━━━━━━━\u001b[0m\u001b[37m\u001b[0m \u001b[1m4s\u001b[0m 4ms/step - loss: 0.0084 - mae: 0.0664 - val_loss: 0.0076 - val_mae: 0.0641\n",
      "Epoch 3/20\n",
      "\u001b[1m842/842\u001b[0m \u001b[32m━━━━━━━━━━━━━━━━━━━━\u001b[0m\u001b[37m\u001b[0m \u001b[1m3s\u001b[0m 4ms/step - loss: 0.0078 - mae: 0.0642 - val_loss: 0.0078 - val_mae: 0.0681\n",
      "Epoch 4/20\n",
      "\u001b[1m842/842\u001b[0m \u001b[32m━━━━━━━━━━━━━━━━━━━━\u001b[0m\u001b[37m\u001b[0m \u001b[1m3s\u001b[0m 3ms/step - loss: 0.0079 - mae: 0.0646 - val_loss: 0.0076 - val_mae: 0.0645\n",
      "Epoch 5/20\n",
      "\u001b[1m842/842\u001b[0m \u001b[32m━━━━━━━━━━━━━━━━━━━━\u001b[0m\u001b[37m\u001b[0m \u001b[1m3s\u001b[0m 4ms/step - loss: 0.0077 - mae: 0.0637 - val_loss: 0.0079 - val_mae: 0.0694\n",
      "Epoch 6/20\n",
      "\u001b[1m842/842\u001b[0m \u001b[32m━━━━━━━━━━━━━━━━━━━━\u001b[0m\u001b[37m\u001b[0m \u001b[1m3s\u001b[0m 3ms/step - loss: 0.0078 - mae: 0.0642 - val_loss: 0.0078 - val_mae: 0.0685\n",
      "Epoch 7/20\n",
      "\u001b[1m842/842\u001b[0m \u001b[32m━━━━━━━━━━━━━━━━━━━━\u001b[0m\u001b[37m\u001b[0m \u001b[1m2s\u001b[0m 3ms/step - loss: 0.0078 - mae: 0.0636 - val_loss: 0.0075 - val_mae: 0.0615\n",
      "Epoch 8/20\n",
      "\u001b[1m842/842\u001b[0m \u001b[32m━━━━━━━━━━━━━━━━━━━━\u001b[0m\u001b[37m\u001b[0m \u001b[1m3s\u001b[0m 4ms/step - loss: 0.0076 - mae: 0.0633 - val_loss: 0.0079 - val_mae: 0.0595\n",
      "Epoch 9/20\n",
      "\u001b[1m842/842\u001b[0m \u001b[32m━━━━━━━━━━━━━━━━━━━━\u001b[0m\u001b[37m\u001b[0m \u001b[1m4s\u001b[0m 4ms/step - loss: 0.0074 - mae: 0.0625 - val_loss: 0.0075 - val_mae: 0.0642\n",
      "Epoch 10/20\n",
      "\u001b[1m842/842\u001b[0m \u001b[32m━━━━━━━━━━━━━━━━━━━━\u001b[0m\u001b[37m\u001b[0m \u001b[1m7s\u001b[0m 8ms/step - loss: 0.0077 - mae: 0.0633 - val_loss: 0.0077 - val_mae: 0.0671\n",
      "Epoch 11/20\n",
      "\u001b[1m842/842\u001b[0m \u001b[32m━━━━━━━━━━━━━━━━━━━━\u001b[0m\u001b[37m\u001b[0m \u001b[1m11s\u001b[0m 9ms/step - loss: 0.0076 - mae: 0.0631 - val_loss: 0.0077 - val_mae: 0.0671\n",
      "Epoch 12/20\n",
      "\u001b[1m842/842\u001b[0m \u001b[32m━━━━━━━━━━━━━━━━━━━━\u001b[0m\u001b[37m\u001b[0m \u001b[1m3s\u001b[0m 4ms/step - loss: 0.0074 - mae: 0.0629 - val_loss: 0.0079 - val_mae: 0.0594\n",
      "Epoch 13/20\n",
      "\u001b[1m842/842\u001b[0m \u001b[32m━━━━━━━━━━━━━━━━━━━━\u001b[0m\u001b[37m\u001b[0m \u001b[1m4s\u001b[0m 5ms/step - loss: 0.0077 - mae: 0.0634 - val_loss: 0.0074 - val_mae: 0.0621\n",
      "Epoch 14/20\n",
      "\u001b[1m842/842\u001b[0m \u001b[32m━━━━━━━━━━━━━━━━━━━━\u001b[0m\u001b[37m\u001b[0m \u001b[1m3s\u001b[0m 4ms/step - loss: 0.0077 - mae: 0.0635 - val_loss: 0.0075 - val_mae: 0.0621\n",
      "Epoch 15/20\n",
      "\u001b[1m842/842\u001b[0m \u001b[32m━━━━━━━━━━━━━━━━━━━━\u001b[0m\u001b[37m\u001b[0m \u001b[1m3s\u001b[0m 4ms/step - loss: 0.0074 - mae: 0.0625 - val_loss: 0.0078 - val_mae: 0.0683\n",
      "Epoch 16/20\n",
      "\u001b[1m842/842\u001b[0m \u001b[32m━━━━━━━━━━━━━━━━━━━━\u001b[0m\u001b[37m\u001b[0m \u001b[1m3s\u001b[0m 4ms/step - loss: 0.0076 - mae: 0.0627 - val_loss: 0.0075 - val_mae: 0.0650\n",
      "Epoch 17/20\n",
      "\u001b[1m842/842\u001b[0m \u001b[32m━━━━━━━━━━━━━━━━━━━━\u001b[0m\u001b[37m\u001b[0m \u001b[1m4s\u001b[0m 4ms/step - loss: 0.0074 - mae: 0.0630 - val_loss: 0.0077 - val_mae: 0.0597\n",
      "Epoch 18/20\n",
      "\u001b[1m842/842\u001b[0m \u001b[32m━━━━━━━━━━━━━━━━━━━━\u001b[0m\u001b[37m\u001b[0m \u001b[1m4s\u001b[0m 4ms/step - loss: 0.0075 - mae: 0.0629 - val_loss: 0.0074 - val_mae: 0.0619\n",
      "Epoch 19/20\n",
      "\u001b[1m842/842\u001b[0m \u001b[32m━━━━━━━━━━━━━━━━━━━━\u001b[0m\u001b[37m\u001b[0m \u001b[1m3s\u001b[0m 4ms/step - loss: 0.0072 - mae: 0.0622 - val_loss: 0.0075 - val_mae: 0.0630\n",
      "Epoch 20/20\n",
      "\u001b[1m842/842\u001b[0m \u001b[32m━━━━━━━━━━━━━━━━━━━━\u001b[0m\u001b[37m\u001b[0m \u001b[1m4s\u001b[0m 4ms/step - loss: 0.0075 - mae: 0.0631 - val_loss: 0.0075 - val_mae: 0.0605\n",
      "\u001b[1m211/211\u001b[0m \u001b[32m━━━━━━━━━━━━━━━━━━━━\u001b[0m\u001b[37m\u001b[0m \u001b[1m0s\u001b[0m 1ms/step\n",
      "Epoch 1/20\n",
      "\u001b[1m842/842\u001b[0m \u001b[32m━━━━━━━━━━━━━━━━━━━━\u001b[0m\u001b[37m\u001b[0m \u001b[1m5s\u001b[0m 4ms/step - loss: 0.3349 - mae: 0.3012 - val_loss: 0.0077 - val_mae: 0.0603\n",
      "Epoch 2/20\n",
      "\u001b[1m842/842\u001b[0m \u001b[32m━━━━━━━━━━━━━━━━━━━━\u001b[0m\u001b[37m\u001b[0m \u001b[1m3s\u001b[0m 3ms/step - loss: 0.0122 - mae: 0.0824 - val_loss: 0.0078 - val_mae: 0.0588\n",
      "Epoch 3/20\n",
      "\u001b[1m842/842\u001b[0m \u001b[32m━━━━━━━━━━━━━━━━━━━━\u001b[0m\u001b[37m\u001b[0m \u001b[1m3s\u001b[0m 4ms/step - loss: 0.0098 - mae: 0.0727 - val_loss: 0.0074 - val_mae: 0.0628\n",
      "Epoch 4/20\n",
      "\u001b[1m842/842\u001b[0m \u001b[32m━━━━━━━━━━━━━━━━━━━━\u001b[0m\u001b[37m\u001b[0m \u001b[1m4s\u001b[0m 5ms/step - loss: 0.0087 - mae: 0.0687 - val_loss: 0.0080 - val_mae: 0.0587\n",
      "Epoch 5/20\n",
      "\u001b[1m842/842\u001b[0m \u001b[32m━━━━━━━━━━━━━━━━━━━━\u001b[0m\u001b[37m\u001b[0m \u001b[1m4s\u001b[0m 4ms/step - loss: 0.0084 - mae: 0.0668 - val_loss: 0.0075 - val_mae: 0.0644\n",
      "Epoch 6/20\n",
      "\u001b[1m842/842\u001b[0m \u001b[32m━━━━━━━━━━━━━━━━━━━━\u001b[0m\u001b[37m\u001b[0m \u001b[1m5s\u001b[0m 6ms/step - loss: 0.0082 - mae: 0.0662 - val_loss: 0.0075 - val_mae: 0.0643\n",
      "Epoch 7/20\n",
      "\u001b[1m842/842\u001b[0m \u001b[32m━━━━━━━━━━━━━━━━━━━━\u001b[0m\u001b[37m\u001b[0m \u001b[1m5s\u001b[0m 6ms/step - loss: 0.0080 - mae: 0.0647 - val_loss: 0.0074 - val_mae: 0.0616\n",
      "Epoch 8/20\n",
      "\u001b[1m842/842\u001b[0m \u001b[32m━━━━━━━━━━━━━━━━━━━━\u001b[0m\u001b[37m\u001b[0m \u001b[1m5s\u001b[0m 6ms/step - loss: 0.0078 - mae: 0.0645 - val_loss: 0.0075 - val_mae: 0.0604\n",
      "Epoch 9/20\n",
      "\u001b[1m842/842\u001b[0m \u001b[32m━━━━━━━━━━━━━━━━━━━━\u001b[0m\u001b[37m\u001b[0m \u001b[1m6s\u001b[0m 7ms/step - loss: 0.0078 - mae: 0.0645 - val_loss: 0.0074 - val_mae: 0.0604\n",
      "Epoch 10/20\n",
      "\u001b[1m842/842\u001b[0m \u001b[32m━━━━━━━━━━━━━━━━━━━━\u001b[0m\u001b[37m\u001b[0m \u001b[1m5s\u001b[0m 6ms/step - loss: 0.0074 - mae: 0.0632 - val_loss: 0.0077 - val_mae: 0.0588\n",
      "Epoch 11/20\n",
      "\u001b[1m842/842\u001b[0m \u001b[32m━━━━━━━━━━━━━━━━━━━━\u001b[0m\u001b[37m\u001b[0m \u001b[1m5s\u001b[0m 6ms/step - loss: 0.0074 - mae: 0.0629 - val_loss: 0.0074 - val_mae: 0.0618\n",
      "Epoch 12/20\n",
      "\u001b[1m842/842\u001b[0m \u001b[32m━━━━━━━━━━━━━━━━━━━━\u001b[0m\u001b[37m\u001b[0m \u001b[1m5s\u001b[0m 6ms/step - loss: 0.0075 - mae: 0.0629 - val_loss: 0.0075 - val_mae: 0.0654\n",
      "Epoch 13/20\n",
      "\u001b[1m842/842\u001b[0m \u001b[32m━━━━━━━━━━━━━━━━━━━━\u001b[0m\u001b[37m\u001b[0m \u001b[1m4s\u001b[0m 5ms/step - loss: 0.0076 - mae: 0.0633 - val_loss: 0.0075 - val_mae: 0.0595\n",
      "Epoch 14/20\n",
      "\u001b[1m842/842\u001b[0m \u001b[32m━━━━━━━━━━━━━━━━━━━━\u001b[0m\u001b[37m\u001b[0m \u001b[1m5s\u001b[0m 6ms/step - loss: 0.0075 - mae: 0.0629 - val_loss: 0.0073 - val_mae: 0.0626\n",
      "Epoch 15/20\n",
      "\u001b[1m842/842\u001b[0m \u001b[32m━━━━━━━━━━━━━━━━━━━━\u001b[0m\u001b[37m\u001b[0m \u001b[1m4s\u001b[0m 5ms/step - loss: 0.0075 - mae: 0.0631 - val_loss: 0.0080 - val_mae: 0.0586\n",
      "Epoch 16/20\n",
      "\u001b[1m842/842\u001b[0m \u001b[32m━━━━━━━━━━━━━━━━━━━━\u001b[0m\u001b[37m\u001b[0m \u001b[1m5s\u001b[0m 5ms/step - loss: 0.0073 - mae: 0.0624 - val_loss: 0.0074 - val_mae: 0.0607\n",
      "Epoch 17/20\n",
      "\u001b[1m842/842\u001b[0m \u001b[32m━━━━━━━━━━━━━━━━━━━━\u001b[0m\u001b[37m\u001b[0m \u001b[1m4s\u001b[0m 5ms/step - loss: 0.0075 - mae: 0.0633 - val_loss: 0.0075 - val_mae: 0.0592\n",
      "Epoch 18/20\n",
      "\u001b[1m842/842\u001b[0m \u001b[32m━━━━━━━━━━━━━━━━━━━━\u001b[0m\u001b[37m\u001b[0m \u001b[1m4s\u001b[0m 5ms/step - loss: 0.0076 - mae: 0.0630 - val_loss: 0.0077 - val_mae: 0.0586\n",
      "Epoch 19/20\n",
      "\u001b[1m842/842\u001b[0m \u001b[32m━━━━━━━━━━━━━━━━━━━━\u001b[0m\u001b[37m\u001b[0m \u001b[1m4s\u001b[0m 5ms/step - loss: 0.0073 - mae: 0.0622 - val_loss: 0.0073 - val_mae: 0.0610\n",
      "Epoch 20/20\n",
      "\u001b[1m842/842\u001b[0m \u001b[32m━━━━━━━━━━━━━━━━━━━━\u001b[0m\u001b[37m\u001b[0m \u001b[1m5s\u001b[0m 6ms/step - loss: 0.0076 - mae: 0.0633 - val_loss: 0.0073 - val_mae: 0.0617\n",
      "\u001b[1m211/211\u001b[0m \u001b[32m━━━━━━━━━━━━━━━━━━━━\u001b[0m\u001b[37m\u001b[0m \u001b[1m0s\u001b[0m 2ms/step\n",
      "Epoch 1/20\n",
      "\u001b[1m842/842\u001b[0m \u001b[32m━━━━━━━━━━━━━━━━━━━━\u001b[0m\u001b[37m\u001b[0m \u001b[1m8s\u001b[0m 6ms/step - loss: 0.0767 - mae: 0.1580 - val_loss: 0.0091 - val_mae: 0.0605\n",
      "Epoch 2/20\n",
      "\u001b[1m842/842\u001b[0m \u001b[32m━━━━━━━━━━━━━━━━━━━━\u001b[0m\u001b[37m\u001b[0m \u001b[1m4s\u001b[0m 5ms/step - loss: 0.0088 - mae: 0.0687 - val_loss: 0.0079 - val_mae: 0.0592\n",
      "Epoch 3/20\n",
      "\u001b[1m842/842\u001b[0m \u001b[32m━━━━━━━━━━━━━━━━━━━━\u001b[0m\u001b[37m\u001b[0m \u001b[1m5s\u001b[0m 6ms/step - loss: 0.0078 - mae: 0.0646 - val_loss: 0.0077 - val_mae: 0.0597\n",
      "Epoch 4/20\n",
      "\u001b[1m842/842\u001b[0m \u001b[32m━━━━━━━━━━━━━━━━━━━━\u001b[0m\u001b[37m\u001b[0m \u001b[1m5s\u001b[0m 5ms/step - loss: 0.0079 - mae: 0.0642 - val_loss: 0.0075 - val_mae: 0.0609\n",
      "Epoch 5/20\n",
      "\u001b[1m842/842\u001b[0m \u001b[32m━━━━━━━━━━━━━━━━━━━━\u001b[0m\u001b[37m\u001b[0m \u001b[1m4s\u001b[0m 5ms/step - loss: 0.0076 - mae: 0.0638 - val_loss: 0.0078 - val_mae: 0.0588\n",
      "Epoch 6/20\n",
      "\u001b[1m842/842\u001b[0m \u001b[32m━━━━━━━━━━━━━━━━━━━━\u001b[0m\u001b[37m\u001b[0m \u001b[1m5s\u001b[0m 6ms/step - loss: 0.0075 - mae: 0.0635 - val_loss: 0.0074 - val_mae: 0.0622\n",
      "Epoch 7/20\n",
      "\u001b[1m842/842\u001b[0m \u001b[32m━━━━━━━━━━━━━━━━━━━━\u001b[0m\u001b[37m\u001b[0m \u001b[1m5s\u001b[0m 5ms/step - loss: 0.0078 - mae: 0.0636 - val_loss: 0.0075 - val_mae: 0.0600\n",
      "Epoch 8/20\n",
      "\u001b[1m842/842\u001b[0m \u001b[32m━━━━━━━━━━━━━━━━━━━━\u001b[0m\u001b[37m\u001b[0m \u001b[1m4s\u001b[0m 5ms/step - loss: 0.0077 - mae: 0.0638 - val_loss: 0.0075 - val_mae: 0.0598\n",
      "Epoch 9/20\n",
      "\u001b[1m842/842\u001b[0m \u001b[32m━━━━━━━━━━━━━━━━━━━━\u001b[0m\u001b[37m\u001b[0m \u001b[1m4s\u001b[0m 5ms/step - loss: 0.0075 - mae: 0.0631 - val_loss: 0.0074 - val_mae: 0.0627\n",
      "Epoch 10/20\n",
      "\u001b[1m842/842\u001b[0m \u001b[32m━━━━━━━━━━━━━━━━━━━━\u001b[0m\u001b[37m\u001b[0m \u001b[1m5s\u001b[0m 5ms/step - loss: 0.0078 - mae: 0.0644 - val_loss: 0.0074 - val_mae: 0.0638\n",
      "Epoch 11/20\n",
      "\u001b[1m842/842\u001b[0m \u001b[32m━━━━━━━━━━━━━━━━━━━━\u001b[0m\u001b[37m\u001b[0m \u001b[1m4s\u001b[0m 5ms/step - loss: 0.0075 - mae: 0.0633 - val_loss: 0.0076 - val_mae: 0.0592\n",
      "Epoch 12/20\n",
      "\u001b[1m842/842\u001b[0m \u001b[32m━━━━━━━━━━━━━━━━━━━━\u001b[0m\u001b[37m\u001b[0m \u001b[1m4s\u001b[0m 4ms/step - loss: 0.0075 - mae: 0.0631 - val_loss: 0.0074 - val_mae: 0.0603\n",
      "Epoch 13/20\n",
      "\u001b[1m842/842\u001b[0m \u001b[32m━━━━━━━━━━━━━━━━━━━━\u001b[0m\u001b[37m\u001b[0m \u001b[1m4s\u001b[0m 4ms/step - loss: 0.0077 - mae: 0.0632 - val_loss: 0.0074 - val_mae: 0.0616\n",
      "Epoch 14/20\n",
      "\u001b[1m842/842\u001b[0m \u001b[32m━━━━━━━━━━━━━━━━━━━━\u001b[0m\u001b[37m\u001b[0m \u001b[1m4s\u001b[0m 5ms/step - loss: 0.0076 - mae: 0.0628 - val_loss: 0.0074 - val_mae: 0.0617\n",
      "Epoch 15/20\n",
      "\u001b[1m842/842\u001b[0m \u001b[32m━━━━━━━━━━━━━━━━━━━━\u001b[0m\u001b[37m\u001b[0m \u001b[1m4s\u001b[0m 5ms/step - loss: 0.0074 - mae: 0.0624 - val_loss: 0.0074 - val_mae: 0.0627\n",
      "Epoch 16/20\n",
      "\u001b[1m842/842\u001b[0m \u001b[32m━━━━━━━━━━━━━━━━━━━━\u001b[0m\u001b[37m\u001b[0m \u001b[1m5s\u001b[0m 5ms/step - loss: 0.0075 - mae: 0.0630 - val_loss: 0.0074 - val_mae: 0.0616\n",
      "Epoch 17/20\n",
      "\u001b[1m842/842\u001b[0m \u001b[32m━━━━━━━━━━━━━━━━━━━━\u001b[0m\u001b[37m\u001b[0m \u001b[1m4s\u001b[0m 5ms/step - loss: 0.0076 - mae: 0.0634 - val_loss: 0.0074 - val_mae: 0.0614\n",
      "Epoch 18/20\n",
      "\u001b[1m842/842\u001b[0m \u001b[32m━━━━━━━━━━━━━━━━━━━━\u001b[0m\u001b[37m\u001b[0m \u001b[1m5s\u001b[0m 5ms/step - loss: 0.0074 - mae: 0.0625 - val_loss: 0.0074 - val_mae: 0.0611\n",
      "Epoch 19/20\n",
      "\u001b[1m842/842\u001b[0m \u001b[32m━━━━━━━━━━━━━━━━━━━━\u001b[0m\u001b[37m\u001b[0m \u001b[1m5s\u001b[0m 5ms/step - loss: 0.0072 - mae: 0.0617 - val_loss: 0.0076 - val_mae: 0.0664\n",
      "Epoch 20/20\n",
      "\u001b[1m842/842\u001b[0m \u001b[32m━━━━━━━━━━━━━━━━━━━━\u001b[0m\u001b[37m\u001b[0m \u001b[1m4s\u001b[0m 5ms/step - loss: 0.0075 - mae: 0.0632 - val_loss: 0.0077 - val_mae: 0.0588\n",
      "\u001b[1m211/211\u001b[0m \u001b[32m━━━━━━━━━━━━━━━━━━━━\u001b[0m\u001b[37m\u001b[0m \u001b[1m0s\u001b[0m 2ms/step\n",
      "Epoch 1/20\n",
      "\u001b[1m842/842\u001b[0m \u001b[32m━━━━━━━━━━━━━━━━━━━━\u001b[0m\u001b[37m\u001b[0m \u001b[1m8s\u001b[0m 6ms/step - loss: 0.0628 - mae: 0.1533 - val_loss: 0.0072 - val_mae: 0.0606\n",
      "Epoch 2/20\n",
      "\u001b[1m842/842\u001b[0m \u001b[32m━━━━━━━━━━━━━━━━━━━━\u001b[0m\u001b[37m\u001b[0m \u001b[1m5s\u001b[0m 6ms/step - loss: 0.0089 - mae: 0.0684 - val_loss: 0.0074 - val_mae: 0.0652\n",
      "Epoch 3/20\n",
      "\u001b[1m842/842\u001b[0m \u001b[32m━━━━━━━━━━━━━━━━━━━━\u001b[0m\u001b[37m\u001b[0m \u001b[1m4s\u001b[0m 4ms/step - loss: 0.0080 - mae: 0.0651 - val_loss: 0.0073 - val_mae: 0.0658\n",
      "Epoch 4/20\n",
      "\u001b[1m842/842\u001b[0m \u001b[32m━━━━━━━━━━━━━━━━━━━━\u001b[0m\u001b[37m\u001b[0m \u001b[1m5s\u001b[0m 6ms/step - loss: 0.0078 - mae: 0.0638 - val_loss: 0.0073 - val_mae: 0.0656\n",
      "Epoch 5/20\n",
      "\u001b[1m842/842\u001b[0m \u001b[32m━━━━━━━━━━━━━━━━━━━━\u001b[0m\u001b[37m\u001b[0m \u001b[1m4s\u001b[0m 5ms/step - loss: 0.0077 - mae: 0.0635 - val_loss: 0.0073 - val_mae: 0.0641\n",
      "Epoch 6/20\n",
      "\u001b[1m842/842\u001b[0m \u001b[32m━━━━━━━━━━━━━━━━━━━━\u001b[0m\u001b[37m\u001b[0m \u001b[1m4s\u001b[0m 5ms/step - loss: 0.0077 - mae: 0.0635 - val_loss: 0.0075 - val_mae: 0.0670\n",
      "Epoch 7/20\n",
      "\u001b[1m842/842\u001b[0m \u001b[32m━━━━━━━━━━━━━━━━━━━━\u001b[0m\u001b[37m\u001b[0m \u001b[1m4s\u001b[0m 5ms/step - loss: 0.0078 - mae: 0.0636 - val_loss: 0.0072 - val_mae: 0.0622\n",
      "Epoch 8/20\n",
      "\u001b[1m842/842\u001b[0m \u001b[32m━━━━━━━━━━━━━━━━━━━━\u001b[0m\u001b[37m\u001b[0m \u001b[1m5s\u001b[0m 6ms/step - loss: 0.0075 - mae: 0.0626 - val_loss: 0.0072 - val_mae: 0.0629\n",
      "Epoch 9/20\n",
      "\u001b[1m842/842\u001b[0m \u001b[32m━━━━━━━━━━━━━━━━━━━━\u001b[0m\u001b[37m\u001b[0m \u001b[1m4s\u001b[0m 5ms/step - loss: 0.0076 - mae: 0.0628 - val_loss: 0.0073 - val_mae: 0.0606\n",
      "Epoch 10/20\n",
      "\u001b[1m842/842\u001b[0m \u001b[32m━━━━━━━━━━━━━━━━━━━━\u001b[0m\u001b[37m\u001b[0m \u001b[1m5s\u001b[0m 6ms/step - loss: 0.0073 - mae: 0.0622 - val_loss: 0.0072 - val_mae: 0.0621\n",
      "Epoch 11/20\n",
      "\u001b[1m842/842\u001b[0m \u001b[32m━━━━━━━━━━━━━━━━━━━━\u001b[0m\u001b[37m\u001b[0m \u001b[1m5s\u001b[0m 5ms/step - loss: 0.0076 - mae: 0.0631 - val_loss: 0.0072 - val_mae: 0.0637\n",
      "Epoch 12/20\n",
      "\u001b[1m842/842\u001b[0m \u001b[32m━━━━━━━━━━━━━━━━━━━━\u001b[0m\u001b[37m\u001b[0m \u001b[1m4s\u001b[0m 5ms/step - loss: 0.0074 - mae: 0.0625 - val_loss: 0.0073 - val_mae: 0.0648\n",
      "Epoch 13/20\n",
      "\u001b[1m842/842\u001b[0m \u001b[32m━━━━━━━━━━━━━━━━━━━━\u001b[0m\u001b[37m\u001b[0m \u001b[1m4s\u001b[0m 5ms/step - loss: 0.0074 - mae: 0.0624 - val_loss: 0.0073 - val_mae: 0.0630\n",
      "Epoch 14/20\n",
      "\u001b[1m842/842\u001b[0m \u001b[32m━━━━━━━━━━━━━━━━━━━━\u001b[0m\u001b[37m\u001b[0m \u001b[1m4s\u001b[0m 5ms/step - loss: 0.0077 - mae: 0.0634 - val_loss: 0.0074 - val_mae: 0.0669\n",
      "Epoch 15/20\n",
      "\u001b[1m842/842\u001b[0m \u001b[32m━━━━━━━━━━━━━━━━━━━━\u001b[0m\u001b[37m\u001b[0m \u001b[1m6s\u001b[0m 8ms/step - loss: 0.0075 - mae: 0.0628 - val_loss: 0.0072 - val_mae: 0.0635\n",
      "Epoch 16/20\n",
      "\u001b[1m842/842\u001b[0m \u001b[32m━━━━━━━━━━━━━━━━━━━━\u001b[0m\u001b[37m\u001b[0m \u001b[1m3s\u001b[0m 4ms/step - loss: 0.0074 - mae: 0.0625 - val_loss: 0.0074 - val_mae: 0.0598\n",
      "Epoch 17/20\n",
      "\u001b[1m842/842\u001b[0m \u001b[32m━━━━━━━━━━━━━━━━━━━━\u001b[0m\u001b[37m\u001b[0m \u001b[1m4s\u001b[0m 5ms/step - loss: 0.0077 - mae: 0.0631 - val_loss: 0.0075 - val_mae: 0.0598\n",
      "Epoch 18/20\n",
      "\u001b[1m842/842\u001b[0m \u001b[32m━━━━━━━━━━━━━━━━━━━━\u001b[0m\u001b[37m\u001b[0m \u001b[1m4s\u001b[0m 5ms/step - loss: 0.0078 - mae: 0.0634 - val_loss: 0.0072 - val_mae: 0.0614\n",
      "Epoch 19/20\n",
      "\u001b[1m842/842\u001b[0m \u001b[32m━━━━━━━━━━━━━━━━━━━━\u001b[0m\u001b[37m\u001b[0m \u001b[1m4s\u001b[0m 5ms/step - loss: 0.0075 - mae: 0.0627 - val_loss: 0.0072 - val_mae: 0.0606\n",
      "Epoch 20/20\n",
      "\u001b[1m842/842\u001b[0m \u001b[32m━━━━━━━━━━━━━━━━━━━━\u001b[0m\u001b[37m\u001b[0m \u001b[1m6s\u001b[0m 7ms/step - loss: 0.0077 - mae: 0.0633 - val_loss: 0.0072 - val_mae: 0.0622\n",
      "\u001b[1m211/211\u001b[0m \u001b[32m━━━━━━━━━━━━━━━━━━━━\u001b[0m\u001b[37m\u001b[0m \u001b[1m1s\u001b[0m 2ms/step\n",
      "Epoch 1/20\n",
      "\u001b[1m842/842\u001b[0m \u001b[32m━━━━━━━━━━━━━━━━━━━━\u001b[0m\u001b[37m\u001b[0m \u001b[1m8s\u001b[0m 6ms/step - loss: 0.0350 - mae: 0.1157 - val_loss: 0.0073 - val_mae: 0.0642\n",
      "Epoch 2/20\n",
      "\u001b[1m842/842\u001b[0m \u001b[32m━━━━━━━━━━━━━━━━━━━━\u001b[0m\u001b[37m\u001b[0m \u001b[1m4s\u001b[0m 5ms/step - loss: 0.0079 - mae: 0.0650 - val_loss: 0.0073 - val_mae: 0.0605\n",
      "Epoch 3/20\n",
      "\u001b[1m842/842\u001b[0m \u001b[32m━━━━━━━━━━━━━━━━━━━━\u001b[0m\u001b[37m\u001b[0m \u001b[1m4s\u001b[0m 5ms/step - loss: 0.0078 - mae: 0.0641 - val_loss: 0.0073 - val_mae: 0.0627\n",
      "Epoch 4/20\n",
      "\u001b[1m842/842\u001b[0m \u001b[32m━━━━━━━━━━━━━━━━━━━━\u001b[0m\u001b[37m\u001b[0m \u001b[1m4s\u001b[0m 5ms/step - loss: 0.0075 - mae: 0.0627 - val_loss: 0.0073 - val_mae: 0.0615\n",
      "Epoch 5/20\n",
      "\u001b[1m842/842\u001b[0m \u001b[32m━━━━━━━━━━━━━━━━━━━━\u001b[0m\u001b[37m\u001b[0m \u001b[1m5s\u001b[0m 6ms/step - loss: 0.0076 - mae: 0.0635 - val_loss: 0.0075 - val_mae: 0.0591\n",
      "Epoch 6/20\n",
      "\u001b[1m842/842\u001b[0m \u001b[32m━━━━━━━━━━━━━━━━━━━━\u001b[0m\u001b[37m\u001b[0m \u001b[1m5s\u001b[0m 6ms/step - loss: 0.0076 - mae: 0.0630 - val_loss: 0.0073 - val_mae: 0.0630\n",
      "Epoch 7/20\n",
      "\u001b[1m842/842\u001b[0m \u001b[32m━━━━━━━━━━━━━━━━━━━━\u001b[0m\u001b[37m\u001b[0m \u001b[1m5s\u001b[0m 6ms/step - loss: 0.0076 - mae: 0.0632 - val_loss: 0.0073 - val_mae: 0.0612\n",
      "Epoch 8/20\n",
      "\u001b[1m842/842\u001b[0m \u001b[32m━━━━━━━━━━━━━━━━━━━━\u001b[0m\u001b[37m\u001b[0m \u001b[1m8s\u001b[0m 9ms/step - loss: 0.0075 - mae: 0.0627 - val_loss: 0.0073 - val_mae: 0.0609\n",
      "Epoch 9/20\n",
      "\u001b[1m842/842\u001b[0m \u001b[32m━━━━━━━━━━━━━━━━━━━━\u001b[0m\u001b[37m\u001b[0m \u001b[1m4s\u001b[0m 5ms/step - loss: 0.0074 - mae: 0.0627 - val_loss: 0.0073 - val_mae: 0.0639\n",
      "Epoch 10/20\n",
      "\u001b[1m842/842\u001b[0m \u001b[32m━━━━━━━━━━━━━━━━━━━━\u001b[0m\u001b[37m\u001b[0m \u001b[1m5s\u001b[0m 6ms/step - loss: 0.0073 - mae: 0.0622 - val_loss: 0.0073 - val_mae: 0.0639\n",
      "Epoch 11/20\n",
      "\u001b[1m842/842\u001b[0m \u001b[32m━━━━━━━━━━━━━━━━━━━━\u001b[0m\u001b[37m\u001b[0m \u001b[1m4s\u001b[0m 5ms/step - loss: 0.0074 - mae: 0.0630 - val_loss: 0.0073 - val_mae: 0.0641\n",
      "Epoch 12/20\n",
      "\u001b[1m842/842\u001b[0m \u001b[32m━━━━━━━━━━━━━━━━━━━━\u001b[0m\u001b[37m\u001b[0m \u001b[1m5s\u001b[0m 6ms/step - loss: 0.0075 - mae: 0.0627 - val_loss: 0.0078 - val_mae: 0.0699\n",
      "Epoch 13/20\n",
      "\u001b[1m842/842\u001b[0m \u001b[32m━━━━━━━━━━━━━━━━━━━━\u001b[0m\u001b[37m\u001b[0m \u001b[1m4s\u001b[0m 5ms/step - loss: 0.0075 - mae: 0.0624 - val_loss: 0.0073 - val_mae: 0.0631\n",
      "Epoch 14/20\n",
      "\u001b[1m842/842\u001b[0m \u001b[32m━━━━━━━━━━━━━━━━━━━━\u001b[0m\u001b[37m\u001b[0m \u001b[1m4s\u001b[0m 5ms/step - loss: 0.0076 - mae: 0.0635 - val_loss: 0.0077 - val_mae: 0.0587\n",
      "Epoch 15/20\n",
      "\u001b[1m842/842\u001b[0m \u001b[32m━━━━━━━━━━━━━━━━━━━━\u001b[0m\u001b[37m\u001b[0m \u001b[1m4s\u001b[0m 5ms/step - loss: 0.0077 - mae: 0.0632 - val_loss: 0.0073 - val_mae: 0.0607\n",
      "Epoch 16/20\n",
      "\u001b[1m842/842\u001b[0m \u001b[32m━━━━━━━━━━━━━━━━━━━━\u001b[0m\u001b[37m\u001b[0m \u001b[1m4s\u001b[0m 5ms/step - loss: 0.0076 - mae: 0.0628 - val_loss: 0.0073 - val_mae: 0.0625\n",
      "Epoch 17/20\n",
      "\u001b[1m842/842\u001b[0m \u001b[32m━━━━━━━━━━━━━━━━━━━━\u001b[0m\u001b[37m\u001b[0m \u001b[1m5s\u001b[0m 5ms/step - loss: 0.0074 - mae: 0.0625 - val_loss: 0.0074 - val_mae: 0.0653\n",
      "Epoch 18/20\n",
      "\u001b[1m842/842\u001b[0m \u001b[32m━━━━━━━━━━━━━━━━━━━━\u001b[0m\u001b[37m\u001b[0m \u001b[1m5s\u001b[0m 6ms/step - loss: 0.0076 - mae: 0.0630 - val_loss: 0.0073 - val_mae: 0.0614\n",
      "Epoch 19/20\n",
      "\u001b[1m842/842\u001b[0m \u001b[32m━━━━━━━━━━━━━━━━━━━━\u001b[0m\u001b[37m\u001b[0m \u001b[1m5s\u001b[0m 6ms/step - loss: 0.0074 - mae: 0.0625 - val_loss: 0.0073 - val_mae: 0.0610\n",
      "Epoch 20/20\n",
      "\u001b[1m842/842\u001b[0m \u001b[32m━━━━━━━━━━━━━━━━━━━━\u001b[0m\u001b[37m\u001b[0m \u001b[1m5s\u001b[0m 6ms/step - loss: 0.0073 - mae: 0.0622 - val_loss: 0.0073 - val_mae: 0.0602\n",
      "\u001b[1m211/211\u001b[0m \u001b[32m━━━━━━━━━━━━━━━━━━━━\u001b[0m\u001b[37m\u001b[0m \u001b[1m0s\u001b[0m 2ms/step\n",
      "Cross-Validation RMSE Scores: [np.float64(0.08590748414295675), np.float64(0.08485357011431563), np.float64(0.08639412056438647), np.float64(0.08324303856412094), np.float64(0.08476845666519357)]\n",
      "Mean CV RMSE: 0.08503333401019467\n"
     ]
    }
   ],
   "source": [
    "kf = KFold(n_splits=5, shuffle=True, random_state=42)\n",
    "cross_val_scores = []\n",
    "\n",
    "for train_idx, val_idx in kf.split(X):\n",
    "    X_train_cv, X_val_cv = X[train_idx], X[val_idx]\n",
    "    y_train_cv, y_val_cv = y[train_idx], y[val_idx]\n",
    "\n",
    "    X_train_cv = X_train_cv.reshape((X_train_cv.shape[0], 1, X_train_cv.shape[1]))\n",
    "    X_val_cv = X_val_cv.reshape((X_val_cv.shape[0], 1, X_val_cv.shape[1]))\n",
    "\n",
    "    model_cv = tuner.hypermodel.build(best_hps)\n",
    "    model_cv.fit(X_train_cv, y_train_cv, epochs=20, batch_size=32, validation_data=(X_val_cv, y_val_cv))\n",
    "\n",
    "    y_val_pred = model_cv.predict(X_val_cv).flatten()\n",
    "    fold_rmse = np.sqrt(mean_squared_error(y_val_cv, y_val_pred))\n",
    "    cross_val_scores.append(fold_rmse)\n",
    "\n",
    "print(f\"Cross-Validation RMSE Scores: {cross_val_scores}\")\n",
    "print(f\"Mean CV RMSE: {np.mean(cross_val_scores)}\")"
   ]
  }
 ],
 "metadata": {
  "kernelspec": {
   "display_name": "Python 3",
   "language": "python",
   "name": "python3"
  },
  "language_info": {
   "codemirror_mode": {
    "name": "ipython",
    "version": 3
   },
   "file_extension": ".py",
   "mimetype": "text/x-python",
   "name": "python",
   "nbconvert_exporter": "python",
   "pygments_lexer": "ipython3",
   "version": "3.12.0"
  }
 },
 "nbformat": 4,
 "nbformat_minor": 2
}
